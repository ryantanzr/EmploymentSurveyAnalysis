{
 "cells": [
  {
   "cell_type": "markdown",
   "id": "b8c8b189-0af6-486a-b91d-6fee81ac58b4",
   "metadata": {},
   "source": [
    "# ETL Pipeline (v1.0)"
   ]
  },
  {
   "cell_type": "markdown",
   "id": "1a585230-32cd-489e-9665-53404495dd6a",
   "metadata": {},
   "source": [
    "This is a pipeline that uses a CSV file provided by data.gov.sg, an open-source pool of data for our applications. This project focuses on foundational concepts in python like jupyter, pandas and data wrangling of 3 layers:\n",
    "\n",
    "1. **Raw Layer**: Unprocessed data, fresh from extraction as fast as possible to-be transformed.\n",
    "\n",
    "2. **Standardized Layer**: Minor processing applied here (data cleaning and formatting) for ease of transformation later.\n",
    "\n",
    "3. **Enriched layer**: Addition of derived metrics, removal of unneeded ones, grouping of data, etc."
   ]
  },
  {
   "cell_type": "markdown",
   "id": "5e098fc1",
   "metadata": {},
   "source": [
    "***"
   ]
  },
  {
   "cell_type": "markdown",
   "id": "e5b0332f",
   "metadata": {},
   "source": [
    "## Initialization"
   ]
  },
  {
   "cell_type": "markdown",
   "id": "3ceffaa8",
   "metadata": {},
   "source": [
    "Import required modules"
   ]
  },
  {
   "cell_type": "code",
   "execution_count": 2,
   "id": "b685940b-f22b-494e-b1a6-f18a5130f8c1",
   "metadata": {},
   "outputs": [],
   "source": [
    "from dotenv import load_dotenv\n",
    "import os, logging\n",
    "import pandas as pd\n",
    "import sqlalchemy"
   ]
  },
  {
   "cell_type": "markdown",
   "id": "e50d2417",
   "metadata": {},
   "source": [
    "Set up display and logging settings"
   ]
  },
  {
   "cell_type": "code",
   "execution_count": 6,
   "id": "3a3f57ff-920b-42fe-b302-40235d9abd1e",
   "metadata": {},
   "outputs": [],
   "source": [
    "# Setting up logging\n",
    "logging.basicConfig(level=logging.INFO, format='%(asctime)s - %(levelname)s - %(message)s')\n",
    "\n",
    "# Configuring panda display\n",
    "pd.set_option(\"display.max_columns\", None)\n",
    "pd.set_option(\"display.max_rows\", 10)\n",
    "pd.set_option(\"display.width\", 50)\n",
    "pd.set_option(\"display.precision\", 2)"
   ]
  },
  {
   "cell_type": "markdown",
   "id": "446c5fe2",
   "metadata": {},
   "source": [
    "\n",
    "Load required environment variables and initialise the connection"
   ]
  },
  {
   "cell_type": "code",
   "execution_count": 9,
   "id": "fc2735c0-7981-4363-9b42-6bfc47003c2d",
   "metadata": {},
   "outputs": [],
   "source": [
    "# Database connection\n",
    "load_dotenv()\n",
    "server=\"localhost\"\n",
    "pwd = os.getenv(\"DB_PASSWORD\")\n",
    "uid = os.getenv(\"DB_USER\")\n",
    "\n",
    "# Create connection string\n",
    "conn_string = f\"postgresql://{uid}:{pwd}@{server}:5432/graduate_employment_survey\"\n",
    "engine = sqlalchemy.create_engine(url=conn_string, pool_pre_ping=True)"
   ]
  },
  {
   "cell_type": "markdown",
   "id": "5fa2c116",
   "metadata": {},
   "source": [
    "Try connecting to the database, otherwise throw an error"
   ]
  },
  {
   "cell_type": "code",
   "execution_count": 11,
   "id": "0a59cee6-a2de-4ed2-b9f7-71f1d84b7155",
   "metadata": {},
   "outputs": [],
   "source": [
    "try:\n",
    "    conn = engine.connect()\n",
    "except sqlalchemy.exc.SQLAlchemyError as e:\n",
    "    logging.error(\"Database connection failed: %s\", e)\n",
    "    raise"
   ]
  },
  {
   "cell_type": "markdown",
   "id": "7eede16c",
   "metadata": {},
   "source": [
    "***"
   ]
  },
  {
   "cell_type": "markdown",
   "id": "8f4c578a",
   "metadata": {},
   "source": [
    "## Extraction\n",
    "\n",
    "Here we read from a CSV file to extract us a raw dataframe"
   ]
  },
  {
   "cell_type": "code",
   "execution_count": 14,
   "id": "b7237fd1",
   "metadata": {},
   "outputs": [
    {
     "name": "stderr",
     "output_type": "stream",
     "text": [
      "2024-08-11 18:36:12,401 - INFO - Data extracted successfully from GraduateEmploymentSurveyNTUNUSSITSMUSUSSSUTD.csv\n"
     ]
    },
    {
     "name": "stdout",
     "output_type": "stream",
     "text": [
      "      year                         university  \\\n",
      "0     2013   Nanyang Technological University   \n",
      "1     2013   Nanyang Technological University   \n",
      "2     2013   Nanyang Technological University   \n",
      "3     2013   Nanyang Technological University   \n",
      "4     2013   Nanyang Technological University   \n",
      "...    ...                                ...   \n",
      "1257  2022  Singapore Institute of Technology   \n",
      "1258  2022  Singapore Institute of Technology   \n",
      "1259  2022  Singapore Institute of Technology   \n",
      "1260  2022  Singapore Institute of Technology   \n",
      "1261  2022  Singapore Institute of Technology   \n",
      "\n",
      "                                             school  \\\n",
      "0     College of Business (Nanyang Business School)   \n",
      "1     College of Business (Nanyang Business School)   \n",
      "2     College of Business (Nanyang Business School)   \n",
      "3     College of Business (Nanyang Business School)   \n",
      "4                            College of Engineering   \n",
      "...                                             ...   \n",
      "1257                      SIT-University of Glasgow   \n",
      "1258                 Technische Universität München   \n",
      "1259                 Technische Universität München   \n",
      "1260              The Culinary Institute of America   \n",
      "1261                        University of Liverpool   \n",
      "\n",
      "                                                 degree  \\\n",
      "0                              Accountancy and Business   \n",
      "1           Accountancy (3-yr direct Honours Programme)   \n",
      "2              Business (3-yr direct Honours Programme)   \n",
      "3                                Business and Computing   \n",
      "4                                 Aerospace Engineering   \n",
      "...                                                 ...   \n",
      "1257        Bachelor of Science with Honours in Nursing   \n",
      "1258        Bachelor of Science in Chemical Engineering   \n",
      "1259  Bachelor of Science in Electrical Engineering ...   \n",
      "1260  Bachelor of Business Administration in Food Bu...   \n",
      "1261  Bachelor of Arts with Honours in Criminology a...   \n",
      "\n",
      "     employment_rate_overall  \\\n",
      "0                       97.4   \n",
      "1                       97.1   \n",
      "2                       90.9   \n",
      "3                       87.5   \n",
      "4                       95.3   \n",
      "...                      ...   \n",
      "1257                    98.6   \n",
      "1258                    94.1   \n",
      "1259                      95   \n",
      "1260                    89.5   \n",
      "1261                    90.5   \n",
      "\n",
      "     employment_rate_ft_perm basic_monthly_mean  \\\n",
      "0                       96.1               3701   \n",
      "1                       95.7               2850   \n",
      "2                       85.7               3053   \n",
      "3                       87.5               3557   \n",
      "4                       95.3               3494   \n",
      "...                      ...                ...   \n",
      "1257                    88.4        3511.114754   \n",
      "1258                    85.3        3704.482759   \n",
      "1259                      85             4522.2   \n",
      "1260                    78.9               2609   \n",
      "1261                    85.7        4277.888889   \n",
      "\n",
      "     basic_monthly_median gross_monthly_mean  \\\n",
      "0                    3200               3727   \n",
      "1                    2700               2938   \n",
      "2                    3000               3214   \n",
      "3                    3400               3615   \n",
      "4                    3500               3536   \n",
      "...                   ...                ...   \n",
      "1257                 3458        3796.516393   \n",
      "1258                 3600        4002.482759   \n",
      "1259                 4200        4605.533333   \n",
      "1260                 2450               2969   \n",
      "1261                 4050        4533.247222   \n",
      "\n",
      "     gross_monthly_median  \\\n",
      "0                    3350   \n",
      "1                    2700   \n",
      "2                    3000   \n",
      "3                    3400   \n",
      "4                    3500   \n",
      "...                   ...   \n",
      "1257                 3800   \n",
      "1258                 3950   \n",
      "1259                 4280   \n",
      "1260                 3050   \n",
      "1261             4560.835   \n",
      "\n",
      "     gross_mthly_25_percentile  \\\n",
      "0                         2900   \n",
      "1                         2700   \n",
      "2                         2700   \n",
      "3                         3000   \n",
      "4                         3100   \n",
      "...                        ...   \n",
      "1257                      3500   \n",
      "1258                      3600   \n",
      "1259                      4000   \n",
      "1260                      2300   \n",
      "1261                      4000   \n",
      "\n",
      "     gross_mthly_75_percentile  \n",
      "0                         4000  \n",
      "1                         2900  \n",
      "2                         3500  \n",
      "3                         4100  \n",
      "4                         3816  \n",
      "...                        ...  \n",
      "1257                      4100  \n",
      "1258                      4300  \n",
      "1259                      4800  \n",
      "1260                      3500  \n",
      "1261                      5293  \n",
      "\n",
      "[1262 rows x 12 columns]\n"
     ]
    }
   ],
   "source": [
    "# Extract data from csv file\n",
    "def extract(file_path) -> pd.DataFrame:\n",
    "    try:\n",
    "        df = pd.read_csv(file_path)\n",
    "        logging.info(\"Data extracted successfully from %s\", file_path)\n",
    "        return df\n",
    "    except FileNotFoundError as e:\n",
    "        logging.error(\"File not found: %s\", e)\n",
    "        raise\n",
    "    except pd.errors.ParserError as e:\n",
    "        logging.error(\"Error parsing CSV file: %s\", e)\n",
    "        raise\n",
    "\n",
    "file_path = \"GraduateEmploymentSurveyNTUNUSSITSMUSUSSSUTD.csv\"\n",
    "df = extract(file_path)\n",
    "print(df)"
   ]
  },
  {
   "cell_type": "markdown",
   "id": "c0b7554f",
   "metadata": {},
   "source": [
    "## Transformation\n",
    "\n",
    "From here we perform 2 kinds of transformation on deep copies of dataframes: standardization to clean the raw frame and then enrich it with metrics"
   ]
  },
  {
   "cell_type": "code",
   "execution_count": null,
   "id": "7d060f33",
   "metadata": {},
   "outputs": [],
   "source": [
    "def standardize(df: pd.DataFrame) -> pd.DataFrame:\n",
    "  \n",
    "    # Keep numeric columns for metadata manipulation\n",
    "    cols = df.columns.drop(['year', 'university', 'school', 'degree'])\n",
    "    df[cols] = df[cols].apply(pd.to_numeric, errors=\"coerce\")\n",
    "\n",
    "    # Drop degree column for further calculations\n",
    "    df = df.drop(columns=[\"degree\"])\n",
    "    \n",
    "    # Clean the data by removing rows with missing values and rounding to 2 decimal places\n",
    "    results = df.dropna(axis=0, how=\"any\").round(2)\n",
    "\n",
    "    logging.info(\"Data standardized successfully\")\n",
    "    \n",
    "    return results\n",
    "\n",
    "df_cleaned = standardize(df.copy(deep=True))\n",
    "print(df_cleaned)"
   ]
  },
  {
   "cell_type": "markdown",
   "id": "68516ecd",
   "metadata": {},
   "source": [
    "This round we perform a simple kind of enrichment where we form groups based on the year, university then school and calculate the mean for each of their numerics rounded to 2 decimal places. Then we add a last updated timestamp too"
   ]
  },
  {
   "cell_type": "code",
   "execution_count": 15,
   "id": "2dd741dd",
   "metadata": {},
   "outputs": [
    {
     "name": "stderr",
     "output_type": "stream",
     "text": [
      "2024-08-11 18:41:03,373 - INFO - Data enriched successfully\n"
     ]
    },
    {
     "name": "stdout",
     "output_type": "stream",
     "text": [
      "     year  \\\n",
      "0    2013   \n",
      "1    2013   \n",
      "2    2013   \n",
      "3    2013   \n",
      "4    2013   \n",
      "..    ...   \n",
      "340  2022   \n",
      "341  2022   \n",
      "342  2022   \n",
      "343  2022   \n",
      "344  2022   \n",
      "\n",
      "                                        university  \\\n",
      "0                 Nanyang Technological University   \n",
      "1                 Nanyang Technological University   \n",
      "2                 Nanyang Technological University   \n",
      "3                 Nanyang Technological University   \n",
      "4                 Nanyang Technological University   \n",
      "..                                             ...   \n",
      "340                Singapore Management University   \n",
      "341                Singapore Management University   \n",
      "342        Singapore University of Social Sciences   \n",
      "343        Singapore University of Social Sciences   \n",
      "344  Singapore University of Technology and Design   \n",
      "\n",
      "                                             school  \\\n",
      "0     College of Business (Nanyang Business School)   \n",
      "1                            College of Engineering   \n",
      "2     College of Humanities, Arts & Social Sciences   \n",
      "3                               College of Sciences   \n",
      "4             National Institute of Education (NIE)   \n",
      "..                                              ...   \n",
      "340              School of Law (4-year programme) *   \n",
      "341  School of Social Sciences (4-year programme) *   \n",
      "342          S R Nathan School of Human Development   \n",
      "343                              School of Business   \n",
      "344                                              na   \n",
      "\n",
      "     employment_rate_overall_mean  \\\n",
      "0                           93.22   \n",
      "1                           89.29   \n",
      "2                           84.51   \n",
      "3                           80.68   \n",
      "4                          100.00   \n",
      "..                            ...   \n",
      "340                         93.25   \n",
      "341                         92.85   \n",
      "342                         91.27   \n",
      "343                         94.44   \n",
      "344                         91.55   \n",
      "\n",
      "     employment_rate_ft_perm_mean  \\\n",
      "0                           91.25   \n",
      "1                           85.93   \n",
      "2                           72.65   \n",
      "3                           72.90   \n",
      "4                          100.00   \n",
      "..                            ...   \n",
      "340                         91.75   \n",
      "341                         85.95   \n",
      "342                         78.43   \n",
      "343                         86.58   \n",
      "344                         87.50   \n",
      "\n",
      "     basic_monthly_mean_mean  \\\n",
      "0                    3290.25   \n",
      "1                    3157.92   \n",
      "2                    2900.00   \n",
      "3                    3002.50   \n",
      "4                    3395.00   \n",
      "..                       ...   \n",
      "340                  6144.50   \n",
      "341                  4213.50   \n",
      "342                  3456.00   \n",
      "343                  3890.00   \n",
      "344                  4753.75   \n",
      "\n",
      "     basic_monthly_median_mean  \\\n",
      "0                      3075.00   \n",
      "1                      3054.17   \n",
      "2                      2853.75   \n",
      "3                      2950.00   \n",
      "4                      3413.00   \n",
      "..                         ...   \n",
      "340                    6169.00   \n",
      "341                    3925.50   \n",
      "342                    3421.67   \n",
      "343                    3820.00   \n",
      "344                    4437.50   \n",
      "\n",
      "     gross_monthly_mean_mean  \\\n",
      "0                    3373.50   \n",
      "1                    3242.00   \n",
      "2                    2964.12   \n",
      "3                    3070.50   \n",
      "4                    3492.00   \n",
      "..                       ...   \n",
      "340                  6325.00   \n",
      "341                  4420.50   \n",
      "342                  3532.67   \n",
      "343                  4037.40   \n",
      "344                  4878.50   \n",
      "\n",
      "     gross_monthly_median_mean  \\\n",
      "0                      3112.50   \n",
      "1                      3135.42   \n",
      "2                      2915.62   \n",
      "3                      3034.50   \n",
      "4                      3498.00   \n",
      "..                         ...   \n",
      "340                    6387.50   \n",
      "341                    4158.00   \n",
      "342                    3476.00   \n",
      "343                    3872.00   \n",
      "344                    4497.50   \n",
      "\n",
      "     gross_mthly_25_percentile_mean  \\\n",
      "0                           2825.00   \n",
      "1                           2966.08   \n",
      "2                           2653.12   \n",
      "3                           2758.33   \n",
      "4                           3350.00   \n",
      "..                              ...   \n",
      "340                         5750.00   \n",
      "341                         3647.50   \n",
      "342                         3250.00   \n",
      "343                         3564.00   \n",
      "344                         4100.00   \n",
      "\n",
      "     gross_mthly_75_percentile_mean  \\\n",
      "0                           3625.00   \n",
      "1                           3475.08   \n",
      "2                           3247.25   \n",
      "3                           3325.00   \n",
      "4                           3687.50   \n",
      "..                              ...   \n",
      "340                         6900.00   \n",
      "341                         4750.00   \n",
      "342                         3659.33   \n",
      "343                         4382.60   \n",
      "344                         5350.00   \n",
      "\n",
      "                  last_updated  \n",
      "0   2024-08-11 18:41:03.371133  \n",
      "1   2024-08-11 18:41:03.371133  \n",
      "2   2024-08-11 18:41:03.371133  \n",
      "3   2024-08-11 18:41:03.371133  \n",
      "4   2024-08-11 18:41:03.371133  \n",
      "..                         ...  \n",
      "340 2024-08-11 18:41:03.371133  \n",
      "341 2024-08-11 18:41:03.371133  \n",
      "342 2024-08-11 18:41:03.371133  \n",
      "343 2024-08-11 18:41:03.371133  \n",
      "344 2024-08-11 18:41:03.371133  \n",
      "\n",
      "[345 rows x 12 columns]\n"
     ]
    }
   ],
   "source": [
    "def enrich(df: pd.DataFrame) -> pd.DataFrame:\n",
    "    \n",
    "    # Group the data by university, school and year, and\n",
    "    # calculate the mean of each group, then add suffix \"_mean\"\n",
    "    results = df.groupby([\"year\", \"university\", \"school\"]).mean(numeric_only=True).add_suffix(\"_mean\").reset_index().round(2)\n",
    "    results[\"last_updated\"] = pd.Timestamp.now()\n",
    "\n",
    "    logging.info(\"Data enriched successfully\")\n",
    "    \n",
    "    return results\n",
    "\n",
    "df_enriched = enrich(df_cleaned.copy(deep=True))\n",
    "print(df_enriched)"
   ]
  },
  {
   "cell_type": "markdown",
   "id": "1d5a6d98",
   "metadata": {},
   "source": [
    "Then we load all 3 layers into a local postgres database "
   ]
  },
  {
   "cell_type": "code",
   "execution_count": 16,
   "id": "06f4d4ae",
   "metadata": {},
   "outputs": [
    {
     "name": "stderr",
     "output_type": "stream",
     "text": [
      "2024-08-11 18:41:03,754 - INFO - Data loaded to layer: raw\n",
      "2024-08-11 18:41:03,969 - INFO - Data loaded to layer: standardized\n",
      "2024-08-11 18:41:04,056 - INFO - Data loaded to layer: enriched\n"
     ]
    }
   ],
   "source": [
    "# Load data to a postgres database in 3 layers: raw, standardised, enriched\n",
    "def load(layer, df: pd.DataFrame):\n",
    "    table_name = f\"{layer}_layer\"\n",
    "    try:\n",
    "        df.to_sql(table_name, engine, if_exists=\"replace\", index=False)\n",
    "        logging.info(\"Data loaded to layer: %s\", layer)\n",
    "    except sqlalchemy.exc.SQLAlchemyError as e:\n",
    "        logging.error(\"Failed to load data to %s: %s\", layer, e)\n",
    "        raise\n",
    "\n",
    "load(\"raw\", df)\n",
    "load(\"standardized\", df_cleaned)\n",
    "load(\"enriched\", df_enriched)"
   ]
  }
 ],
 "metadata": {
  "kernelspec": {
   "display_name": "Python 3 (ipykernel)",
   "language": "python",
   "name": "python3"
  },
  "language_info": {
   "codemirror_mode": {
    "name": "ipython",
    "version": 3
   },
   "file_extension": ".py",
   "mimetype": "text/x-python",
   "name": "python",
   "nbconvert_exporter": "python",
   "pygments_lexer": "ipython3",
   "version": "3.12.4"
  }
 },
 "nbformat": 4,
 "nbformat_minor": 5
}
